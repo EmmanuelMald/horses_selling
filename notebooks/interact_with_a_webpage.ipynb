{
 "cells": [
  {
   "cell_type": "markdown",
   "metadata": {},
   "source": [
    "# How to interact with a webpage"
   ]
  },
  {
   "cell_type": "markdown",
   "metadata": {},
   "source": [
    "This notebook is aimed to be used as a testing place. When we get something that we already know it works, then we can move the code to a python script.\n",
    "\n",
    "In this case, we'll try to learn how to write some data into a simple webpage such as [**Google**](https://www.google.com.mx/?hl=es-419). To do so, we will try to use the [**selenium**](https://pypi.org/project/selenium/), which is a widely-used open-source tool for automating web browser interactions. It enables developers and testers to programmatically control web browsers, simulating user actions such as clicking buttons, filling forms, and navigating between pages. "
   ]
  },
  {
   "cell_type": "code",
   "execution_count": 36,
   "metadata": {},
   "outputs": [],
   "source": [
    "from selenium import webdriver\n",
    "from selenium.webdriver.common.by import By\n",
    "from selenium.webdriver.common.keys import Keys\n",
    "from selenium.webdriver.support.ui import WebDriverWait\n",
    "from selenium.webdriver.support import expected_conditions as EC\n",
    "import os\n"
   ]
  },
  {
   "cell_type": "code",
   "execution_count": 12,
   "metadata": {},
   "outputs": [],
   "source": [
    "# code from https://pypi.org/project/selenium/\n",
    "browser = webdriver.Chrome() # changed to Chrome\n",
    "webpage = \"https://www.google.com.mx/\"\n",
    "\n",
    "browser.get(webpage)\n",
    "time.sleep(60)\n",
    "# To find the value 'q', you need to open the browser, go to the webpaage, make right click, and inspect\n",
    "elem = browser.find_element(By.NAME, 'q')  # Find the search box\n",
    "\n",
    "# Keys.RETURN executes the search\n",
    "elem.send_keys('seleniumhq' + Keys.RETURN)\n",
    "\n"
   ]
  },
  {
   "cell_type": "code",
   "execution_count": 19,
   "metadata": {},
   "outputs": [],
   "source": [
    "browser.quit()"
   ]
  },
  {
   "cell_type": "code",
   "execution_count": null,
   "metadata": {},
   "outputs": [],
   "source": [
    "\n",
    "\n",
    "# code from https://pypi.org/project/selenium/\n",
    "browser = webdriver.Chrome() # changed to Chrome\n",
    "webpage = \"https://forms.monday.com/forms/893878d1a5de56ac58c4d5a4c17d8ccd?r=euc1\"\n",
    "\n",
    "browser.get(webpage)\n",
    "wait = WebDriverWait(browser, 10)\n",
    "# To find the value 'q', you need to open the browser, go to the webpaage, make right click, and inspect\n",
    "elem = wait.until(EC.presence_of_element_located((By.CSS_SELECTOR, \"input.form-input.input_7ec7dfffa8\")))  # Find the search box\n",
    "\n",
    "\n",
    "\n",
    "# Keys.RETURN executes the search\n",
    "elem.send_keys('seleniumhq')\n",
    "\n"
   ]
  },
  {
   "cell_type": "code",
   "execution_count": 38,
   "metadata": {},
   "outputs": [
    {
     "name": "stdout",
     "output_type": "stream",
     "text": [
      "option.text.strip()='Stallion'\n",
      "option.text.strip()='Mare'\n",
      "¡Opción 'Mare' seleccionada exitosamente!\n",
      "¡Archivos subidos exitosamente!\n",
      "El checkbox ya está seleccionado, alternando...\n"
     ]
    }
   ],
   "source": [
    "driver = webdriver.Chrome() # changed to Chrome\n",
    "webpage = \"https://forms.monday.com/forms/893878d1a5de56ac58c4d5a4c17d8ccd?r=euc1\"\n",
    "\n",
    "driver.get(webpage)\n",
    "\n",
    "wait = WebDriverWait(driver, 10)\n",
    "first_input = wait.until(EC.presence_of_element_located((By.CSS_SELECTOR, \"input.form-input.input_7ec7dfffa8[aria-label='kurzer_text']\")))\n",
    "\n",
    "# Limpiar y escribir \"prueba\" en el primer campo\n",
    "first_input.clear()\n",
    "first_input.send_keys(\"prueba\")\n",
    "\n",
    "# Esperar explícitamente a que el segundo campo esté presente\n",
    "second_input = wait.until(EC.presence_of_element_located((By.CSS_SELECTOR, \"input.form-input.input_7ec7dfffa8[aria-label='kurzer_text3']\")))\n",
    "\n",
    "# Limpiar y escribir \"Cristina\" en el segundo campo\n",
    "second_input.clear()\n",
    "second_input.send_keys(\"Cristina\")\n",
    "\n",
    "\n",
    "wait = WebDriverWait(driver, 10)\n",
    "date_input = wait.until(EC.presence_of_element_located((By.CSS_SELECTOR, \"input.form-date-input.form-input.input_7ec7dfffa8[aria-label='Elige una fecha']\")))\n",
    "\n",
    "# Limpiar (si es necesario) y escribir la fecha\n",
    "# Formato esperado: YYYY-MM-DD (formato estándar de campos de tipo \"date\")\n",
    "date_input.clear()\n",
    "date_input.send_keys(\"01-01-2000\")  # Formato ISO para los campos de fecha\n",
    "\n",
    "\n",
    "wait = WebDriverWait(driver, 10)\n",
    "dropdown = wait.until(EC.presence_of_element_located((By.CSS_SELECTOR, \"div.dropdown_072f830afa\")))\n",
    "\n",
    "# Hacer clic en el dropdown para abrir las opciones\n",
    "dropdown.click()\n",
    "\n",
    "# Esperar a que las opciones del menú sean visibles\n",
    "options = wait.until(EC.presence_of_all_elements_located((By.CSS_SELECTOR, \"div[data-testid='dropdown-option-content']\")))\n",
    "\n",
    "# Iterar sobre las opciones y seleccionar la que tenga el texto \"Mare\"\n",
    "for option in options:\n",
    "    print(f\"{option.text.strip()=}\")\n",
    "    if option.text.strip() == \"Mare\":\n",
    "        option.click()\n",
    "        print(\"¡Opción 'Mare' seleccionada exitosamente!\")\n",
    "        break\n",
    "\n",
    "\n",
    "wait = WebDriverWait(driver, 10)\n",
    "file_input = wait.until(EC.presence_of_element_located((By.CSS_SELECTOR, \"div.dropzone input[type='file']\")))\n",
    "\n",
    "# Construir las rutas absolutas de los archivos\n",
    "video_path = os.path.abspath(\"video.mp4\")  # Asegúrate de que el archivo \"video.mp4\" esté en la misma carpeta\n",
    "image_path = os.path.abspath(\"test2.png\")  # Asegúrate de que el archivo \"img.png\" esté en la misma carpeta\n",
    "\n",
    "# Enviar las rutas de los archivos al input de tipo file\n",
    "file_input.send_keys(f\"{video_path}\\n{image_path}\")  # Subir múltiples archivos (separados por salto de línea)\n",
    "\n",
    "print(\"¡Archivos subidos exitosamente!\")\n",
    "\n",
    "\n",
    " # Esperar explícitamente hasta que el checkbox esté presente\n",
    "wait = WebDriverWait(driver, 10)\n",
    "checkbox = wait.until(EC.presence_of_element_located((By.CSS_SELECTOR, \"label.wrapper_fcde7b533b input[type='checkbox']\")))\n",
    "\n",
    "# Verificar el estado actual del checkbox\n",
    "if checkbox.is_selected():\n",
    "    print(\"El checkbox ya está seleccionado, alternando...\")\n",
    "else:\n",
    "    print(\"El checkbox no está seleccionado, seleccionando...\")\n",
    "    checkbox.click()\n",
    "\n",
    "\n",
    "\n",
    "elem = wait.until(EC.presence_of_element_located((By.CSS_SELECTOR, \"input[id='react-select-2-input']\")))  # Find the search box\n",
    "\n",
    "# Keys.RETURN executes the search\n",
    "elem.send_keys('52'+Keys.RETURN)\n"
   ]
  },
  {
   "cell_type": "code",
   "execution_count": null,
   "metadata": {},
   "outputs": [],
   "source": []
  }
 ],
 "metadata": {
  "kernelspec": {
   "display_name": ".venv",
   "language": "python",
   "name": "python3"
  },
  "language_info": {
   "codemirror_mode": {
    "name": "ipython",
    "version": 3
   },
   "file_extension": ".py",
   "mimetype": "text/x-python",
   "name": "python",
   "nbconvert_exporter": "python",
   "pygments_lexer": "ipython3",
   "version": "3.10.15"
  }
 },
 "nbformat": 4,
 "nbformat_minor": 2
}

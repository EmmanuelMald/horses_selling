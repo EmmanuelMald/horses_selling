{
 "cells": [
  {
   "cell_type": "markdown",
   "metadata": {},
   "source": [
    "# How to interact with a webpage"
   ]
  },
  {
   "cell_type": "markdown",
   "metadata": {},
   "source": [
    "This notebook is aimed to be used as a testing place. When we get something that we already know it works, then we can move the code to a python script.\n",
    "\n",
    "In this case, we'll try to learn how to write some data into a simple webpage such as [**Google**](https://www.google.com.mx/?hl=es-419). To do so, we will try to use the [**selenium**](https://pypi.org/project/selenium/), which is a widely-used open-source tool for automating web browser interactions. It enables developers and testers to programmatically control web browsers, simulating user actions such as clicking buttons, filling forms, and navigating between pages. "
   ]
  },
  {
   "cell_type": "code",
   "execution_count": 1,
   "metadata": {},
   "outputs": [],
   "source": [
    "from selenium import webdriver\n",
    "from selenium.webdriver.common.by import By\n",
    "from selenium.webdriver.common.keys import Keys"
   ]
  },
  {
   "cell_type": "code",
   "execution_count": null,
   "metadata": {},
   "outputs": [],
   "source": [
    "# code from https://pypi.org/project/selenium/\n",
    "browser = webdriver.Chrome() # changed to Chrome\n",
    "webpage = \"https://www.google.com.mx/\"\n",
    "\n",
    "browser.get(webpage)\n",
    "\n",
    "# To find the value 'q', you need to open the browser, go to the webpaage, make right click, and inspect\n",
    "elem = browser.find_element(By.NAME, 'q')  # Find the search box\n",
    "\n",
    "# Keys.RETURN executes the search\n",
    "elem.send_keys('seleniumhq' + Keys.RETURN)\n",
    "\n"
   ]
  },
  {
   "cell_type": "code",
   "execution_count": 4,
   "metadata": {},
   "outputs": [],
   "source": [
    "browser.quit()"
   ]
  },
  {
   "cell_type": "code",
   "execution_count": null,
   "metadata": {},
   "outputs": [],
   "source": []
  }
 ],
 "metadata": {
  "kernelspec": {
   "display_name": ".venv",
   "language": "python",
   "name": "python3"
  },
  "language_info": {
   "codemirror_mode": {
    "name": "ipython",
    "version": 3
   },
   "file_extension": ".py",
   "mimetype": "text/x-python",
   "name": "python",
   "nbconvert_exporter": "python",
   "pygments_lexer": "ipython3",
   "version": "3.10.15"
  }
 },
 "nbformat": 4,
 "nbformat_minor": 2
}

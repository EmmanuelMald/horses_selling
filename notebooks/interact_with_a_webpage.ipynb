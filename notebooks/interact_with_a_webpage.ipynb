{
 "cells": [
  {
   "cell_type": "markdown",
   "metadata": {},
   "source": [
    "# How to interact with a webpage"
   ]
  },
  {
   "cell_type": "markdown",
   "metadata": {},
   "source": [
    "This notebook is aimed to be used as a testing place. When we get something that we already know it works, then we can move the code to a python script.\n",
    "\n",
    "In this case, we'll try to learn how to write some data into a simple webpage such as [**Google**](https://www.google.com.mx/?hl=es-419). To do so, we will try to use the [**selenium**](https://pypi.org/project/selenium/), which is a widely-used open-source tool for automating web browser interactions. It enables developers and testers to programmatically control web browsers, simulating user actions such as clicking buttons, filling forms, and navigating between pages. "
   ]
  },
  {
   "cell_type": "markdown",
   "metadata": {},
   "source": []
  }
 ],
 "metadata": {
  "language_info": {
   "name": "python"
  }
 },
 "nbformat": 4,
 "nbformat_minor": 2
}

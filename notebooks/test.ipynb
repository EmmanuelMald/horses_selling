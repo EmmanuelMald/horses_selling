{
 "cells": [
  {
   "cell_type": "code",
   "execution_count": 2,
   "metadata": {},
   "outputs": [],
   "source": [
    "from selenium import webdriver\n",
    "from selenium.webdriver.common.by import By\n",
    "from selenium.webdriver.common.keys import Keys\n",
    "from selenium.webdriver.support.ui import WebDriverWait\n",
    "from selenium.webdriver.support import expected_conditions as EC\n",
    "import os"
   ]
  },
  {
   "cell_type": "code",
   "execution_count": 4,
   "metadata": {},
   "outputs": [
    {
     "name": "stdout",
     "output_type": "stream",
     "text": [
      "option.text.strip()='Stallion'\n",
      "¡Opción 'Mare' seleccionada exitosamente!\n",
      "¡Archivos subidos exitosamente!\n"
     ]
    }
   ],
   "source": [
    "# code from https://pypi.org/project/selenium/\n",
    "driver = webdriver.Chrome() # changed to Chrome\n",
    "webpage = \"https://forms.monday.com/forms/893878d1a5de56ac58c4d5a4c17d8ccd?r=euc1\"\n",
    "\n",
    "\n",
    "\n",
    "driver.get(webpage)\n",
    "\n",
    "wait = WebDriverWait(driver, 10)\n",
    "first_input = wait.until(EC.presence_of_element_located((By.CSS_SELECTOR, \"input.form-input.input_7ec7dfffa8[aria-label='kurzer_text']\")))\n",
    "\n",
    "# Limpiar y escribir \"prueba\" en el primer campo\n",
    "first_input.clear()\n",
    "first_input.send_keys(\"prueba\")\n",
    "\n",
    "# Esperar explícitamente a que el segundo campo esté presente\n",
    "second_input = wait.until(EC.presence_of_element_located((By.CSS_SELECTOR, \"input.form-input.input_7ec7dfffa8[aria-label='kurzer_text3']\")))\n",
    "\n",
    "# Limpiar y escribir \"Cristina\" en el segundo campo\n",
    "second_input.clear()\n",
    "second_input.send_keys(\"Cristina\")\n",
    "\n",
    "\n",
    "wait = WebDriverWait(driver, 10)\n",
    "#date_input = wait.until(EC.presence_of_element_located((By.CSS_SELECTOR, \"input.form-date-input.form-input.input_7ec7dfffa8[aria-label='Elige una fecha']\")))\n",
    "date_input = wait.until(EC.presence_of_element_located((By.XPATH, \"/html/body/div/div/div/div/div/div[2]/div[3]/div[3]/div[2]/div/div/div/div/input\")))\n",
    "\n",
    "\n",
    "\n",
    "# Limpiar (si es necesario) y escribir la fecha\n",
    "# Formato esperado: YYYY-MM-DD (formato estándar de campos de tipo \"date\")\n",
    "date_input.clear()\n",
    "date_input.send_keys(\"04-02-1999\")  # Formato ISO para los campos de fecha\n",
    "\n",
    "\n",
    "wait = WebDriverWait(driver, 10)\n",
    "dropdown = wait.until(EC.presence_of_element_located((By.CSS_SELECTOR, \"div.dropdown_072f830afa\")))\n",
    "\n",
    "# Hacer clic en el dropdown para abrir las opciones\n",
    "dropdown.click()\n",
    "\n",
    "# Esperar a que las opciones del menú sean visibles\n",
    "options = wait.until(EC.presence_of_all_elements_located((By.CSS_SELECTOR, \"div[data-testid='dropdown-option-content']\")))\n",
    "\n",
    "# Iterar sobre las opciones y seleccionar la que tenga el texto \"Mare\"\n",
    "for option in options:\n",
    "    print(f\"{option.text.strip()=}\")\n",
    "    if option.text.strip() == \"Stallion\":\n",
    "        option.click()\n",
    "        print(\"¡Opción 'Mare' seleccionada exitosamente!\")\n",
    "        break\n",
    "\n",
    "\n",
    "wait = WebDriverWait(driver, 10)\n",
    "file_input = wait.until(EC.presence_of_element_located((By.CSS_SELECTOR, \"div.dropzone input[type='file']\")))\n",
    "\n",
    "\n",
    "# Enviar las rutas de los archivos al input de tipo file\n",
    "file_input.send_keys(\"/home/ral298/Descargas/Watt_total.jpeg\"+\"\\n\"+\"/home/ral298/Descargas/Fuente.jpeg\"+\"\\n\"+\"/home/ral298/Descargas/Fuente_analog.jpeg\")  # Subir múltiples archivos (separados por salto de línea)\n",
    "\n",
    "print(\"¡Archivos subidos exitosamente!\")\n",
    "\n",
    "#react-select-2-input\n",
    "file_input = wait.until(EC.presence_of_element_located((By.CSS_SELECTOR, \"input[id='react-select-2-input']\")))\n",
    "file_input.send_keys(\"52\"+Keys.RETURN)\n",
    "\n",
    "file_input = wait.until(EC.presence_of_element_located((By.CSS_SELECTOR, \"input[id='react-select-3-input']\")))\n",
    "file_input.send_keys(\"52\"+Keys.RETURN)"
   ]
  }
 ],
 "metadata": {
  "kernelspec": {
   "display_name": ".venv",
   "language": "python",
   "name": "python3"
  },
  "language_info": {
   "codemirror_mode": {
    "name": "ipython",
    "version": 3
   },
   "file_extension": ".py",
   "mimetype": "text/x-python",
   "name": "python",
   "nbconvert_exporter": "python",
   "pygments_lexer": "ipython3",
   "version": "3.10.15"
  }
 },
 "nbformat": 4,
 "nbformat_minor": 2
}

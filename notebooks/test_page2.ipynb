{
 "cells": [
  {
   "cell_type": "code",
   "execution_count": 32,
   "metadata": {},
   "outputs": [],
   "source": [
    "from selenium import webdriver\n",
    "from selenium.webdriver.common.by import By\n",
    "from selenium.webdriver.common.keys import Keys\n",
    "from selenium.webdriver.support.ui import WebDriverWait\n",
    "from selenium.webdriver.support import expected_conditions as EC\n",
    "from selenium.webdriver.chrome.options import Options\n",
    "import os\n",
    "import time\n",
    "\n"
   ]
  },
  {
   "cell_type": "code",
   "execution_count": null,
   "metadata": {},
   "outputs": [
    {
     "name": "stdout",
     "output_type": "stream",
     "text": [
      "button\n"
     ]
    },
    {
     "ename": "NoSuchElementException",
     "evalue": "Message: no such element: Unable to locate element: {\"method\":\"xpath\",\"selector\":\"/html/body/div/div[2]/div[3]/button\"}\n  (Session info: chrome=130.0.6723.58); For documentation on this error, please visit: https://www.selenium.dev/documentation/webdriver/troubleshooting/errors#no-such-element-exception\nStacktrace:\n#0 0x6018ff8496da <unknown>\n#1 0x6018ff35df80 <unknown>\n#2 0x6018ff3aab46 <unknown>\n#3 0x6018ff3aade1 <unknown>\n#4 0x6018ff3f0174 <unknown>\n#5 0x6018ff3cebdd <unknown>\n#6 0x6018ff3ed69d <unknown>\n#7 0x6018ff3ce953 <unknown>\n#8 0x6018ff39d72e <unknown>\n#9 0x6018ff39e79e <unknown>\n#10 0x6018ff814f1b <unknown>\n#11 0x6018ff818eb8 <unknown>\n#12 0x6018ff80242c <unknown>\n#13 0x6018ff819a37 <unknown>\n#14 0x6018ff7e6fef <unknown>\n#15 0x6018ff837ad8 <unknown>\n#16 0x6018ff837ca0 <unknown>\n#17 0x6018ff848556 <unknown>\n#18 0x77aa66294ac3 <unknown>\n",
     "output_type": "error",
     "traceback": [
      "\u001b[0;31m---------------------------------------------------------------------------\u001b[0m",
      "\u001b[0;31mNoSuchElementException\u001b[0m                    Traceback (most recent call last)",
      "Cell \u001b[0;32mIn[34], line 15\u001b[0m\n\u001b[1;32m     13\u001b[0m wait \u001b[38;5;241m=\u001b[39m WebDriverWait(driver, \u001b[38;5;241m10\u001b[39m)\n\u001b[1;32m     14\u001b[0m \u001b[38;5;66;03m#button_ac = wait.until(EC.presence_of_element_located((By.LINK_TEXT, \"Aceptar\")))\u001b[39;00m\n\u001b[0;32m---> 15\u001b[0m x\u001b[38;5;241m=\u001b[39m\u001b[43mdriver\u001b[49m\u001b[38;5;241;43m.\u001b[39;49m\u001b[43mfind_element\u001b[49m\u001b[43m(\u001b[49m\u001b[43mBy\u001b[49m\u001b[38;5;241;43m.\u001b[39;49m\u001b[43mXPATH\u001b[49m\u001b[43m,\u001b[49m\u001b[38;5;124;43m\"\u001b[39;49m\u001b[38;5;124;43m/html/body/div/div[2]/div[3]/button\u001b[39;49m\u001b[38;5;124;43m\"\u001b[39;49m\u001b[43m)\u001b[49m\n\u001b[1;32m     16\u001b[0m x\u001b[38;5;241m.\u001b[39mclick()\n\u001b[1;32m     18\u001b[0m \u001b[38;5;66;03m#/html/body/div/div[2]\u001b[39;00m\n\u001b[1;32m     19\u001b[0m \n\u001b[1;32m     20\u001b[0m \n\u001b[0;32m   (...)\u001b[0m\n\u001b[1;32m     27\u001b[0m \u001b[38;5;66;03m# Hacer clic en el dropdown para abrir las opciones\u001b[39;00m\n\u001b[1;32m     28\u001b[0m \u001b[38;5;66;03m#button_ac.click()\u001b[39;00m\n",
      "File \u001b[0;32m~/horses_selling/.venv/lib/python3.10/site-packages/selenium/webdriver/remote/webdriver.py:770\u001b[0m, in \u001b[0;36mWebDriver.find_element\u001b[0;34m(self, by, value)\u001b[0m\n\u001b[1;32m    767\u001b[0m         \u001b[38;5;28;01mraise\u001b[39;00m NoSuchElementException(\u001b[38;5;124mf\u001b[39m\u001b[38;5;124m\"\u001b[39m\u001b[38;5;124mCannot locate relative element with: \u001b[39m\u001b[38;5;132;01m{\u001b[39;00mby\u001b[38;5;241m.\u001b[39mroot\u001b[38;5;132;01m}\u001b[39;00m\u001b[38;5;124m\"\u001b[39m)\n\u001b[1;32m    768\u001b[0m     \u001b[38;5;28;01mreturn\u001b[39;00m elements[\u001b[38;5;241m0\u001b[39m]\n\u001b[0;32m--> 770\u001b[0m \u001b[38;5;28;01mreturn\u001b[39;00m \u001b[38;5;28;43mself\u001b[39;49m\u001b[38;5;241;43m.\u001b[39;49m\u001b[43mexecute\u001b[49m\u001b[43m(\u001b[49m\u001b[43mCommand\u001b[49m\u001b[38;5;241;43m.\u001b[39;49m\u001b[43mFIND_ELEMENT\u001b[49m\u001b[43m,\u001b[49m\u001b[43m \u001b[49m\u001b[43m{\u001b[49m\u001b[38;5;124;43m\"\u001b[39;49m\u001b[38;5;124;43musing\u001b[39;49m\u001b[38;5;124;43m\"\u001b[39;49m\u001b[43m:\u001b[49m\u001b[43m \u001b[49m\u001b[43mby\u001b[49m\u001b[43m,\u001b[49m\u001b[43m \u001b[49m\u001b[38;5;124;43m\"\u001b[39;49m\u001b[38;5;124;43mvalue\u001b[39;49m\u001b[38;5;124;43m\"\u001b[39;49m\u001b[43m:\u001b[49m\u001b[43m \u001b[49m\u001b[43mvalue\u001b[49m\u001b[43m}\u001b[49m\u001b[43m)\u001b[49m[\u001b[38;5;124m\"\u001b[39m\u001b[38;5;124mvalue\u001b[39m\u001b[38;5;124m\"\u001b[39m]\n",
      "File \u001b[0;32m~/horses_selling/.venv/lib/python3.10/site-packages/selenium/webdriver/remote/webdriver.py:384\u001b[0m, in \u001b[0;36mWebDriver.execute\u001b[0;34m(self, driver_command, params)\u001b[0m\n\u001b[1;32m    382\u001b[0m response \u001b[38;5;241m=\u001b[39m \u001b[38;5;28mself\u001b[39m\u001b[38;5;241m.\u001b[39mcommand_executor\u001b[38;5;241m.\u001b[39mexecute(driver_command, params)\n\u001b[1;32m    383\u001b[0m \u001b[38;5;28;01mif\u001b[39;00m response:\n\u001b[0;32m--> 384\u001b[0m     \u001b[38;5;28;43mself\u001b[39;49m\u001b[38;5;241;43m.\u001b[39;49m\u001b[43merror_handler\u001b[49m\u001b[38;5;241;43m.\u001b[39;49m\u001b[43mcheck_response\u001b[49m\u001b[43m(\u001b[49m\u001b[43mresponse\u001b[49m\u001b[43m)\u001b[49m\n\u001b[1;32m    385\u001b[0m     response[\u001b[38;5;124m\"\u001b[39m\u001b[38;5;124mvalue\u001b[39m\u001b[38;5;124m\"\u001b[39m] \u001b[38;5;241m=\u001b[39m \u001b[38;5;28mself\u001b[39m\u001b[38;5;241m.\u001b[39m_unwrap_value(response\u001b[38;5;241m.\u001b[39mget(\u001b[38;5;124m\"\u001b[39m\u001b[38;5;124mvalue\u001b[39m\u001b[38;5;124m\"\u001b[39m, \u001b[38;5;28;01mNone\u001b[39;00m))\n\u001b[1;32m    386\u001b[0m     \u001b[38;5;28;01mreturn\u001b[39;00m response\n",
      "File \u001b[0;32m~/horses_selling/.venv/lib/python3.10/site-packages/selenium/webdriver/remote/errorhandler.py:232\u001b[0m, in \u001b[0;36mErrorHandler.check_response\u001b[0;34m(self, response)\u001b[0m\n\u001b[1;32m    230\u001b[0m         alert_text \u001b[38;5;241m=\u001b[39m value[\u001b[38;5;124m\"\u001b[39m\u001b[38;5;124malert\u001b[39m\u001b[38;5;124m\"\u001b[39m]\u001b[38;5;241m.\u001b[39mget(\u001b[38;5;124m\"\u001b[39m\u001b[38;5;124mtext\u001b[39m\u001b[38;5;124m\"\u001b[39m)\n\u001b[1;32m    231\u001b[0m     \u001b[38;5;28;01mraise\u001b[39;00m exception_class(message, screen, stacktrace, alert_text)  \u001b[38;5;66;03m# type: ignore[call-arg]  # mypy is not smart enough here\u001b[39;00m\n\u001b[0;32m--> 232\u001b[0m \u001b[38;5;28;01mraise\u001b[39;00m exception_class(message, screen, stacktrace)\n",
      "\u001b[0;31mNoSuchElementException\u001b[0m: Message: no such element: Unable to locate element: {\"method\":\"xpath\",\"selector\":\"/html/body/div/div[2]/div[3]/button\"}\n  (Session info: chrome=130.0.6723.58); For documentation on this error, please visit: https://www.selenium.dev/documentation/webdriver/troubleshooting/errors#no-such-element-exception\nStacktrace:\n#0 0x6018ff8496da <unknown>\n#1 0x6018ff35df80 <unknown>\n#2 0x6018ff3aab46 <unknown>\n#3 0x6018ff3aade1 <unknown>\n#4 0x6018ff3f0174 <unknown>\n#5 0x6018ff3cebdd <unknown>\n#6 0x6018ff3ed69d <unknown>\n#7 0x6018ff3ce953 <unknown>\n#8 0x6018ff39d72e <unknown>\n#9 0x6018ff39e79e <unknown>\n#10 0x6018ff814f1b <unknown>\n#11 0x6018ff818eb8 <unknown>\n#12 0x6018ff80242c <unknown>\n#13 0x6018ff819a37 <unknown>\n#14 0x6018ff7e6fef <unknown>\n#15 0x6018ff837ad8 <unknown>\n#16 0x6018ff837ca0 <unknown>\n#17 0x6018ff848556 <unknown>\n#18 0x77aa66294ac3 <unknown>\n"
     ]
    }
   ],
   "source": [
    "# code from https://pypi.org/project/selenium/\n",
    "driver = webdriver.Chrome() # changed to Chrome\n",
    "webpage = \"https://www.ehorses.es/horse/create?type=1\"\n",
    "\n",
    "\n",
    "driver.get(webpage)\n",
    "\n",
    "firts=time.time()\n",
    "dt=time.time()\n",
    "while(dt-firts<=7):\n",
    "    dt=time.time()\n",
    "print(\"button\")\n",
    "wait = WebDriverWait(driver, 10)\n",
    "#button_ac = wait.until(EC.presence_of_element_located((By.LINK_TEXT, \"Aceptar\")))\n",
    "x=driver.find_element(By.XPATH,\"/html/body/div/div[2]/div[3]/button\")\n",
    "x.click()\n",
    "/html/body/div[5]\n",
    "#/html/body/div/div[2]\n",
    "#/html/body/div[5]/iframe\n",
    "\n",
    "#driver.findElement(By.CLASS_NAME,\"message-component.message-button.no-children.focusable.btnAccept.sp_choice_type_11\");\n",
    "#wait.until(EC.presence_of_element_located((By.CSS_SELECTOR, \"message-component.message-button.no-children.focusable.btnAccept.sp_choice_type_11]\")))\n",
    "\n",
    "\n",
    "\n",
    "\n",
    "# Hacer clic en el dropdown para abrir las opciones\n",
    "#button_ac.click()\n"
   ]
  }
 ],
 "metadata": {
  "kernelspec": {
   "display_name": ".venv",
   "language": "python",
   "name": "python3"
  },
  "language_info": {
   "codemirror_mode": {
    "name": "ipython",
    "version": 3
   },
   "file_extension": ".py",
   "mimetype": "text/x-python",
   "name": "python",
   "nbconvert_exporter": "python",
   "pygments_lexer": "ipython3",
   "version": "3.10.15"
  }
 },
 "nbformat": 4,
 "nbformat_minor": 2
}

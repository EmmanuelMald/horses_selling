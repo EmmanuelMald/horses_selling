{
 "cells": [
  {
   "cell_type": "code",
   "execution_count": 1,
   "metadata": {},
   "outputs": [],
   "source": [
    "from selenium import webdriver\n",
    "from selenium.webdriver.common.by import By\n",
    "from selenium.webdriver.common.keys import Keys\n",
    "from selenium.webdriver.support.ui import WebDriverWait\n",
    "from selenium.webdriver.support import expected_conditions as EC\n",
    "from selenium.webdriver.chrome.options import Options\n",
    "import os\n",
    "import time\n",
    "\n"
   ]
  },
  {
   "cell_type": "code",
   "execution_count": 9,
   "metadata": {},
   "outputs": [
    {
     "name": "stdout",
     "output_type": "stream",
     "text": [
      "button\n",
      "Switching back to main content\n"
     ]
    }
   ],
   "source": [
    "# code from https://pypi.org/project/selenium/\n",
    "driver = webdriver.Chrome() # changed to Chrome\n",
    "webpage = \"https://www.ehorses.es/horse/create?type=1\"\n",
    "\n",
    "\n",
    "driver.get(webpage)\n",
    "\n",
    "firts=time.time()\n",
    "dt=time.time()\n",
    "while(dt-firts<=7):\n",
    "    dt=time.time()\n",
    "print(\"button\")\n",
    "\n",
    "\n",
    "iframe = driver.find_element(By.CSS_SELECTOR, \"#sp_message_iframe_1190237\")\n",
    "\n",
    "driver.switch_to.frame(iframe)\n",
    "x=driver.find_element(By.XPATH,\"/html/body/div/div[2]/div[3]/button\")\n",
    "x.click()\n",
    "\n",
    "\n",
    "# Volver al contenido principal\n",
    "driver.switch_to.default_content()\n",
    "\n",
    "# Esperar a que el campo de entrada esté presente en el HTML principal\n",
    "print(\"Switching back to main content\")\n",
    "\n",
    "wait = WebDriverWait(driver, 10)\n",
    "first_input = wait.until(EC.presence_of_element_located((By.XPATH, \"/html/body/main/div[2]/div[1]/div[1]/div[2]/div/form/div[3]/div/input\")))\n",
    "\n",
    "# Limpiar y escribir \"prueba\" en el primer campo\n",
    "first_input.clear()\n",
    "first_input.send_keys(\"prueba\")\n",
    "\n"
   ]
  }
 ],
 "metadata": {
  "kernelspec": {
   "display_name": ".venv",
   "language": "python",
   "name": "python3"
  },
  "language_info": {
   "codemirror_mode": {
    "name": "ipython",
    "version": 3
   },
   "file_extension": ".py",
   "mimetype": "text/x-python",
   "name": "python",
   "nbconvert_exporter": "python",
   "pygments_lexer": "ipython3",
   "version": "3.10.15"
  }
 },
 "nbformat": 4,
 "nbformat_minor": 2
}
